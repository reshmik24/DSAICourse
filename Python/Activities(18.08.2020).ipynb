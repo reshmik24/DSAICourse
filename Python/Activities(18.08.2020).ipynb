{
 "cells": [
  {
   "cell_type": "markdown",
   "metadata": {},
   "source": [
    "# Python Class 2(18/08/20)Activites\n"
   ]
  },
  {
   "cell_type": "code",
   "execution_count": 7,
   "metadata": {},
   "outputs": [
    {
     "name": "stdout",
     "output_type": "stream",
     "text": [
      "Question 1:Area of a circle\n",
      "Enter the radius of the circle :5\n",
      "Area of the circle is \n",
      "78.5\n"
     ]
    }
   ],
   "source": [
    "#area of a circle\n",
    "print(\"Question 1:Area of a circle\")\n",
    "pi=3.14\n",
    "rad=float(input(\"Enter the radius of the circle :\"))\n",
    "area=pi*rad*rad\n",
    "\n",
    "print(\"Area of the circle is \")\n",
    "print(area)"
   ]
  },
  {
   "cell_type": "code",
   "execution_count": 9,
   "metadata": {},
   "outputs": [
    {
     "name": "stdout",
     "output_type": "stream",
     "text": [
      "Question2:Reverse of String\n",
      "Enter the string :Python class\n",
      "The reverse of the string is:\n",
      "ssalc nohtyP\n"
     ]
    }
   ],
   "source": [
    "#string reverse\n",
    "print(\"Question2:Reverse of String\")\n",
    "str=input(\"Enter the string :\")\n",
    "rev=str[::-1]\n",
    "print(\"The reverse of the string is:\")\n",
    "print(rev)"
   ]
  },
  {
   "cell_type": "code",
   "execution_count": 11,
   "metadata": {},
   "outputs": [
    {
     "name": "stdout",
     "output_type": "stream",
     "text": [
      "Question 3:Average of three numbers\n",
      "Enter first number:50\n",
      "Enter second number:25\n",
      "Enter third number:15\n",
      "The average of the given three numbers are:\n",
      "30.0\n"
     ]
    }
   ],
   "source": [
    "#Q3:Avg of three numbers\n",
    "print(\"Question 3:Average of three numbers\")\n",
    "n1=int(input(\"Enter first number:\"))\n",
    "n2=int(input(\"Enter second number:\"))\n",
    "n3=int(input(\"Enter third number:\"))\n",
    "avg=(n1+n2+n3)/3\n",
    "print(\"The average of the given three numbers are:\")\n",
    "print(avg)"
   ]
  },
  {
   "cell_type": "code",
   "execution_count": 12,
   "metadata": {},
   "outputs": [
    {
     "name": "stdout",
     "output_type": "stream",
     "text": [
      "Question 4:Greatest among 3 numbers\n",
      "Enter first number:6\n",
      "Enter second number:9\n",
      "Enter third number:3\n",
      "Greatest is:\n",
      "9\n"
     ]
    }
   ],
   "source": [
    "#Q4.greatest among three numbers\n",
    "print(\"Question 4:Greatest among 3 numbers\")\n",
    "n1=int(input(\"Enter first number:\"))\n",
    "n2=int(input(\"Enter second number:\"))\n",
    "n3=int(input(\"Enter third number:\"))\n",
    "print(\"Greatest is:\")\n",
    "if n1>n2 :\n",
    "    if n1>n3:\n",
    "        print(n1)\n",
    "    else:\n",
    "        print(n3)\n",
    "elif n2>n3 :\n",
    "    print(n2)"
   ]
  },
  {
   "cell_type": "code",
   "execution_count": 13,
   "metadata": {},
   "outputs": [
    {
     "name": "stdout",
     "output_type": "stream",
     "text": [
      "Question 4: Characters in even and odd indexes of a string\n",
      "Enter a string: python\n",
      "characters in odd position:\n",
      "yhn\n",
      "charcters in even position:\n",
      "pto\n"
     ]
    }
   ],
   "source": [
    "#Q5.charcters in odd and even places\n",
    "print(\"Question 4: Characters in even and odd indexes of a string\")\n",
    "str = input(\"Enter a string: \")\n",
    "odd=str[1::2]\n",
    "eve=str[::2]\n",
    "print(\"characters in odd position:\")\n",
    "print(odd)\n",
    "print(\"charcters in even position:\")\n",
    "print(eve)"
   ]
  },
  {
   "cell_type": "markdown",
   "metadata": {},
   "source": [
    "# END"
   ]
  }
 ],
 "metadata": {
  "kernelspec": {
   "display_name": "Python 3",
   "language": "python",
   "name": "python3"
  },
  "language_info": {
   "codemirror_mode": {
    "name": "ipython",
    "version": 3
   },
   "file_extension": ".py",
   "mimetype": "text/x-python",
   "name": "python",
   "nbconvert_exporter": "python",
   "pygments_lexer": "ipython3",
   "version": "3.8.3"
  }
 },
 "nbformat": 4,
 "nbformat_minor": 4
}
