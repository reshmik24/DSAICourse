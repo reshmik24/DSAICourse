{
 "cells": [
  {
   "cell_type": "code",
   "execution_count": 4,
   "metadata": {},
   "outputs": [
    {
     "name": "stdout",
     "output_type": "stream",
     "text": [
      "enter the number2\n",
      "2\n",
      "4\n",
      "6\n",
      "8\n",
      "10\n",
      "12\n",
      "14\n",
      "16\n",
      "18\n",
      "20\n"
     ]
    }
   ],
   "source": [
    "#print multiplication table of given number\n",
    "num=int(input(\"enter the number\"))\n",
    "mul=0\n",
    "for i in range(1,11):\n",
    "    mul=i*num\n",
    "    print(mul)"
   ]
  },
  {
   "cell_type": "code",
   "execution_count": 24,
   "metadata": {},
   "outputs": [
    {
     "name": "stdout",
     "output_type": "stream",
     "text": [
      "5\n",
      "15\n",
      "40\n"
     ]
    }
   ],
   "source": [
    "#print number divisible by 5 lst=[1,5,22,15,2,9,33,40]\n",
    "lst=[1,5,22,15,2,9,33,40]\n",
    "for i in lst:\n",
    "    if(i%5==0):\n",
    "        print(i)"
   ]
  },
  {
   "cell_type": "code",
   "execution_count": 20,
   "metadata": {},
   "outputs": [
    {
     "name": "stdout",
     "output_type": "stream",
     "text": [
      "[40, 33, 10, 9, 2, 15, 22, 5, 1]\n"
     ]
    }
   ],
   "source": [
    "#reverse list using loop\n",
    "lst3=[1,5,22,15,2,9,10,33,40]\n",
    "for i in lst3:\n",
    "    lst3.reverse()\n",
    "print(lst3)"
   ]
  },
  {
   "cell_type": "code",
   "execution_count": 27,
   "metadata": {},
   "outputs": [
    {
     "name": "stdout",
     "output_type": "stream",
     "text": [
      "40\n",
      "33\n",
      "10\n",
      "9\n",
      "2\n",
      "15\n",
      "22\n",
      "5\n",
      "1\n"
     ]
    }
   ],
   "source": [
    "lst=[1,5,22,15,2,9,10,33,40]\n",
    "k=len(lst)\n",
    "for i in range(k-1,-1,-1):\n",
    "    print(lst[i])"
   ]
  },
  {
   "cell_type": "code",
   "execution_count": 28,
   "metadata": {},
   "outputs": [
    {
     "name": "stdout",
     "output_type": "stream",
     "text": [
      "anil talks english\n",
      "anil talks malayalam\n",
      "anil talks hindi\n",
      "raju talks english\n",
      "raju talks malayalam\n",
      "raju talks hindi\n",
      "asif talks english\n",
      "asif talks malayalam\n",
      "asif talks hindi\n"
     ]
    }
   ],
   "source": [
    "#nested loop\n",
    "list1=['anil','raju','asif']\n",
    "list2=['english','malayalam','hindi']\n",
    "\n",
    "for i in list1:\n",
    "    for j in list2:\n",
    "        print(i+\" talks \"+j)"
   ]
  },
  {
   "cell_type": "code",
   "execution_count": null,
   "metadata": {},
   "outputs": [],
   "source": []
  }
 ],
 "metadata": {
  "kernelspec": {
   "display_name": "Python 3",
   "language": "python",
   "name": "python3"
  },
  "language_info": {
   "codemirror_mode": {
    "name": "ipython",
    "version": 3
   },
   "file_extension": ".py",
   "mimetype": "text/x-python",
   "name": "python",
   "nbconvert_exporter": "python",
   "pygments_lexer": "ipython3",
   "version": "3.8.3"
  }
 },
 "nbformat": 4,
 "nbformat_minor": 4
}
