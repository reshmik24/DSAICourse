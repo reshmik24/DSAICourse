{
 "cells": [
  {
   "cell_type": "markdown",
   "metadata": {},
   "source": [
    "# Assignment No 1"
   ]
  },
  {
   "cell_type": "code",
   "execution_count": 27,
   "metadata": {},
   "outputs": [
    {
     "name": "stdout",
     "output_type": "stream",
     "text": [
      "Enter a string ( with odd length)  : abcdefghi\n",
      "def\n"
     ]
    }
   ],
   "source": [
    " \"\"\"Q1. Input a string of odd length (minimum 9 characters), print a string made of the 3\n",
    "middle characters from input string.(eg :- if input is abcdefghi, answer should be def)\"\"\"\n",
    "str = input(\"Enter a string ( with odd length)  : \")\n",
    "s=(int(len(str)/2))-1     #findout the middle value(integer value),then substract 1,ie list index starts from 0\n",
    "e=s+3\n",
    "print(str[s:e])"
   ]
  },
  {
   "cell_type": "code",
   "execution_count": 6,
   "metadata": {},
   "outputs": [
    {
     "name": "stdout",
     "output_type": "stream",
     "text": [
      "Enter the range : 10\n",
      "Sum is :  55\n",
      "Average is :  5.5\n"
     ]
    }
   ],
   "source": [
    "\"\"\"Q2. Calculate the sum and average of first n natural numbers\n",
    "a. using for loop \"\"\"\n",
    "\n",
    "num=int(input(\"Enter the range : \"))\n",
    "sum=0\n",
    "for i in range(1,num+1):\n",
    "    sum+=i\n",
    "print(\"Sum is : \",sum)\n",
    "print(\"Average is : \",(sum/num))\n",
    "    "
   ]
  },
  {
   "cell_type": "code",
   "execution_count": 8,
   "metadata": {},
   "outputs": [
    {
     "name": "stdout",
     "output_type": "stream",
     "text": [
      "Enter the range : 20\n",
      "Sum is :  210\n",
      "Average is :  10.5\n"
     ]
    }
   ],
   "source": [
    "\"\"\"Q2. Calculate the sum and average of first n natural numbers\n",
    "b. using while loop\"\"\"\n",
    "num = int(input(\"Enter the range : \"))\n",
    "sum=i=0\n",
    "while(i<=num):\n",
    "    sum+=i\n",
    "    i+=1\n",
    "print(\"Sum is : \",sum)\n",
    "print(\"Average is : \",(sum/num))"
   ]
  },
  {
   "cell_type": "code",
   "execution_count": 11,
   "metadata": {},
   "outputs": [
    {
     "name": "stdout",
     "output_type": "stream",
     "text": [
      "Enter a float number 3.8\n",
      "Enter a float number 7.9\n",
      "Enter a float number 9.8\n",
      "Enter a float number 10.1\n",
      "Enter a float number 11.2\n",
      "[3.8, 7.9, 9.8, 10.1, 11.2]\n"
     ]
    }
   ],
   "source": [
    "\"\"\"Q3.Accept list of 5 float numbers as input from user using loop and store values in a list\"\"\"\n",
    "a=[]\n",
    "for i in range(1,6):\n",
    "    a.append(float(input(\"Enter a float number \")))\n",
    "print(a)"
   ]
  },
  {
   "cell_type": "code",
   "execution_count": 15,
   "metadata": {},
   "outputs": [
    {
     "name": "stdout",
     "output_type": "stream",
     "text": [
      " \n",
      "1  \n",
      "1 2  \n",
      "1 2 3  \n",
      "1 2 3 4  \n",
      "1 2 3 4 5  \n"
     ]
    }
   ],
   "source": [
    "\"\"\"Q4.a) Print the  pattern\"\"\"\n",
    "\n",
    "for i in range(1,7):\n",
    "    for j in range(1,i):\n",
    "        print(j,end=\" \")\n",
    "    print(\" \")"
   ]
  },
  {
   "cell_type": "code",
   "execution_count": 18,
   "metadata": {},
   "outputs": [
    {
     "name": "stdout",
     "output_type": "stream",
     "text": [
      "1 2 3 4 5  \n",
      "1 2 3 4  \n",
      "1 2 3  \n",
      "1 2  \n",
      "1  \n"
     ]
    }
   ],
   "source": [
    "\"\"\"Q4.b) Print the  pattern\"\"\"\n",
    "\n",
    "for i in range(6,1,-1):\n",
    "    for j in range(1,i):\n",
    "        print(j,end=\" \")\n",
    "    print(\" \")"
   ]
  },
  {
   "cell_type": "code",
   "execution_count": 20,
   "metadata": {},
   "outputs": [
    {
     "name": "stdout",
     "output_type": "stream",
     "text": [
      "Enter a number : 5647\n",
      "Total number of digits : 4\n"
     ]
    }
   ],
   "source": [
    "\"\"\"Q5. input a number, count and print the total number of digits in that number using while\n",
    "loop\"\"\"\n",
    "\n",
    "a=int(input(\"Enter a number : \"))\n",
    "count=0\n",
    "while(a!=0):\n",
    "    a=int(a/10)\n",
    "    count+=1\n",
    "print(\"Total number of digits :\",count)\n",
    "      "
   ]
  },
  {
   "cell_type": "code",
   "execution_count": 21,
   "metadata": {},
   "outputs": [
    {
     "name": "stdout",
     "output_type": "stream",
     "text": [
      "[3, 8, 9, 16, 15, 24, 21]\n"
     ]
    }
   ],
   "source": [
    "\"\"\"Q6. Given two lists. Create a third list by picking an odd-index element from the first list\n",
    "and even index elements from second.\n",
    "listOne = [3, 6, 9, 12, 15, 18, 21]\n",
    "listTwo = [4, 8, 12, 16, 20, 24, 28]\"\"\"\n",
    "\n",
    "\n",
    "a=[3, 6, 9, 12, 15, 18, 21]\n",
    "b=[4, 8, 12, 16, 20, 24, 28]\n",
    "c=[]\n",
    "for i in range(1,len(a)+1):\n",
    "    #print(i)\n",
    "    if i%2==0:\n",
    "        c.append(b[i-1])\n",
    "    else:\n",
    "        c.append(a[i-1])\n",
    "print(c)"
   ]
  },
  {
   "cell_type": "code",
   "execution_count": 24,
   "metadata": {},
   "outputs": [
    {
     "name": "stdout",
     "output_type": "stream",
     "text": [
      "The smallest number is :  2\n"
     ]
    }
   ],
   "source": [
    "\"\"\"Q7.program to get the smallest number from a list.\"\"\"\n",
    "\n",
    "a= [12,11,5,2,19,15,6,9]\n",
    "a.sort()\n",
    "print(\"The smallest number is : \",a[0])"
   ]
  },
  {
   "cell_type": "code",
   "execution_count": 25,
   "metadata": {},
   "outputs": [
    {
     "name": "stdout",
     "output_type": "stream",
     "text": [
      "Reversed list is :  [50, 4, 30, 20, 10]\n"
     ]
    }
   ],
   "source": [
    " \"\"\"Q8. Reverse the following list using for loop and range [ do not use reverse or\n",
    "reversed like functions]\n",
    "list1 = [10, 20, 30, 4, 50]\"\"\"\n",
    "\n",
    "list1 = [10, 20, 30, 4, 50]\n",
    "rev=[]\n",
    "for i in range(len(list1)-1,-1,-1):\n",
    "    rev.append(list1[i])\n",
    "print(\"Reversed list is : \",rev)"
   ]
  },
  {
   "cell_type": "code",
   "execution_count": null,
   "metadata": {},
   "outputs": [],
   "source": []
  }
 ],
 "metadata": {
  "kernelspec": {
   "display_name": "Python 3",
   "language": "python",
   "name": "python3"
  },
  "language_info": {
   "codemirror_mode": {
    "name": "ipython",
    "version": 3
   },
   "file_extension": ".py",
   "mimetype": "text/x-python",
   "name": "python",
   "nbconvert_exporter": "python",
   "pygments_lexer": "ipython3",
   "version": "3.8.3"
  }
 },
 "nbformat": 4,
 "nbformat_minor": 4
}
